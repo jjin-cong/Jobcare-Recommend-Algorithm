{
 "cells": [
  {
   "cell_type": "markdown",
   "metadata": {
    "id": "V8HyPBrF5mw1"
   },
   "source": [
    "# Wrapper: RFE"
   ]
  },
  {
   "cell_type": "code",
   "execution_count": null,
   "metadata": {
    "id": "9RThIZxJ5jmW"
   },
   "outputs": [],
   "source": [
    "from sklearn.feature_selection import RFE"
   ]
  },
  {
   "cell_type": "markdown",
   "metadata": {
    "id": "zpJ25V9b5uSY"
   },
   "source": [
    "### best feature 개수 확인용"
   ]
  },
  {
   "cell_type": "code",
   "execution_count": null,
   "metadata": {
    "id": "xtl8uH2f5r5x"
   },
   "outputs": [],
   "source": [
    "def wrapper(n):\n",
    "  lgbm = LGBMClassifier(objective=\"binary\", \n",
    "                      reg_alpha= 1.987904330777592e-05, \n",
    "                      reg_lambda= 0.028054003730936226, \n",
    "                      max_depth= 11, \n",
    "                      num_leaves= 141, \n",
    "                      colsample_bytree= 0.5109126733153162, \n",
    "                      subsample= 0.9787092394351908, \n",
    "                      subsample_freq= 8, \n",
    "                      min_child_samples= 95, \n",
    "                      max_bin= 469)\n",
    "  rfe_selector = RFE(estimator=lgbm, n_features_to_select=n, step=10, verbose=5)\n",
    "  rfe_selector.fit(x_train, y_train)\n",
    "  X_train_selected_rfe=rfe_selector.transform(x_train)\n",
    "  X_test_selected_rfe=rfe_selector.transform(x_test)\n",
    "  lgbm.fit(X_train_selected_rfe,\n",
    "        y_train,\n",
    "        eval_set=[(X_train_selected_rfe, y_train), (X_test_selected_rfe, y_test)],\n",
    "        early_stopping_rounds=100,\n",
    "        verbose=False)\n",
    "  lgb_pred = lgbm.predict_proba(X_test_selected_rfe)\n",
    "  log_score_test = log_loss(y_test, lgb_pred)\n",
    "  lgb_pred = lgbm.predict_proba(X_train_selected_rfe)\n",
    "  log_score_train = log_loss(y_train, lgb_pred)\n",
    "  print(n,\"features\")\n",
    "  print(X_test_selected_rfe.shape)\n",
    "  print(\"log score test\",log_score_test)\n",
    "  print(\"log score train\",log_score_train)\n",
    "  print(\"accuracy train\",lgbm.score(X_train_selected_rfe,y_train))\n",
    "  print(\"accuracy test\",lgbm.score(X_test_selected_rfe,y_test))"
   ]
  },
  {
   "cell_type": "code",
   "execution_count": null,
   "metadata": {
    "id": "PrVn358H5tou"
   },
   "outputs": [],
   "source": [
    "for n in range(1,10):\n",
    "  wrapper(n*10)"
   ]
  },
  {
   "cell_type": "markdown",
   "metadata": {
    "id": "r2FbDa-H52Nj"
   },
   "source": [
    "### feature selection 진행\n",
    "\n",
    "##### x_test를 이용해서 feature selection 진행 후, x_train 데이터로 중요한 feature만 추출하는 transform 진행"
   ]
  },
  {
   "cell_type": "code",
   "execution_count": null,
   "metadata": {
    "id": "e7cqgD7E55XY"
   },
   "outputs": [],
   "source": [
    "lgbm_for_f_s_wrapper = LGBMClassifier(objective=\"binary\", \n",
    "                      reg_alpha= 1.987904330777592e-05, \n",
    "                      reg_lambda= 0.028054003730936226, \n",
    "                      max_depth= 11, \n",
    "                      num_leaves= 141, \n",
    "                      colsample_bytree= 0.5109126733153162, \n",
    "                      subsample= 0.9787092394351908, \n",
    "                      subsample_freq= 8, \n",
    "                      min_child_samples= 95, \n",
    "                      max_bin= 469)"
   ]
  },
  {
   "cell_type": "markdown",
   "metadata": {
    "id": "qxMJwbbK6PWJ"
   },
   "source": [
    "X_train_selected_rfe: feature selection 된 x_ train\n",
    "\n"
   ]
  },
  {
   "cell_type": "code",
   "execution_count": null,
   "metadata": {
    "id": "9-ED0fcj6Exk"
   },
   "outputs": [],
   "source": [
    "rfe_selector = RFE(estimator=lgbm_for_f_s_wrapper, n_features_to_select=40, step=10, verbose=5)\n",
    "rfe_selector.fit(x_test, y_test)\n",
    "X_train_selected_rfe=rfe_selector.transform(x_train)"
   ]
  },
  {
   "cell_type": "code",
   "execution_count": null,
   "metadata": {
    "id": "O0aBrZB1NZM3"
   },
   "outputs": [],
   "source": [
    "selected_feature_names=rfe_selector.get_feature_names_out(input_features=x_train.columns)\n",
    "X_train_selected_rfe_df=pd.DataFrame(X_train_selected_rfe)\n",
    "X_train_selected_rfe_df.columns=selected_feature_names"
   ]
  },
  {
   "cell_type": "code",
   "execution_count": null,
   "metadata": {
    "id": "nXh4qIkqNd2y"
   },
   "outputs": [],
   "source": [
    "3X_train_selected_rfe_df"
   ]
  },
  {
   "cell_type": "markdown",
   "metadata": {
    "id": "lzyD9Hlw5geA"
   },
   "source": [
    "# Embedded"
   ]
  },
  {
   "cell_type": "code",
   "execution_count": 1,
   "metadata": {
    "id": "RQfJT_zf5imz"
   },
   "outputs": [],
   "source": [
    "from sklearn.feature_selection import SelectFromModel\n",
    "from sklearn.ensemble import RandomForestClassifier\n",
    "from sklearn.metrics import log_loss"
   ]
  },
  {
   "cell_type": "code",
   "execution_count": null,
   "metadata": {
    "id": "LrQijZ3K5nQf"
   },
   "outputs": [],
   "source": [
    "select = SelectFromModel(RandomForestClassifier(n_estimators=100, random_state=42))\n",
    "select.fit(x_test, y_test)\n",
    "x_train_em = select.transform(x_train)\n",
    "x_test_em = select.transform(x_test)\n",
    "print(\"X_train.shape:\", x_train_em.shape)\n",
    "print(\"X_train_l1.shape:\", x_train_em.shape)"
   ]
  },
  {
   "cell_type": "code",
   "execution_count": 1,
   "metadata": {
    "colab": {
     "base_uri": "https://localhost:8080/",
     "height": 171
    },
    "id": "B642dBuGBV7P",
    "outputId": "46bcfc93-5aeb-43e6-fd68-dc40771108e9"
   },
   "outputs": [
    {
     "ename": "NameError",
     "evalue": "ignored",
     "output_type": "error",
     "traceback": [
      "\u001b[0;31m---------------------------------------------------------------------------\u001b[0m",
      "\u001b[0;31mNameError\u001b[0m                                 Traceback (most recent call last)",
      "\u001b[0;32m<ipython-input-1-1ebd16afb352>\u001b[0m in \u001b[0;36m<module>\u001b[0;34m()\u001b[0m\n\u001b[0;32m----> 1\u001b[0;31m \u001b[0mselect\u001b[0m\u001b[0;34m.\u001b[0m\u001b[0mget_feature_names_out\u001b[0m\u001b[0;34m(\u001b[0m\u001b[0minput_features\u001b[0m\u001b[0;34m=\u001b[0m\u001b[0mtrain\u001b[0m\u001b[0;34m.\u001b[0m\u001b[0mcolumns\u001b[0m\u001b[0;34m)\u001b[0m\u001b[0;34m\u001b[0m\u001b[0;34m\u001b[0m\u001b[0m\n\u001b[0m",
      "\u001b[0;31mNameError\u001b[0m: name 'select' is not defined"
     ]
    }
   ],
   "source": [
    "selected_features_em=select.get_feature_names_out(input_features=train.columns)\n",
    "x_train_em_df=pd.DataFrame(x_train_em)\n",
    "x_train_em_df.columns=selected_features_em"
   ]
  },
  {
   "cell_type": "code",
   "execution_count": null,
   "metadata": {
    "id": "JMRzPk505pV7"
   },
   "outputs": [],
   "source": [
    "lgbm_5 = LGBMClassifier(objective=\"binary\", \n",
    "                      reg_alpha= 1.987904330777592e-05, \n",
    "                      reg_lambda= 0.028054003730936226, \n",
    "                      max_depth= 11, \n",
    "                      num_leaves= 141, \n",
    "                      colsample_bytree= 0.5109126733153162, \n",
    "                      subsample= 0.9787092394351908, \n",
    "                      subsample_freq= 8, \n",
    "                      min_child_samples= 95, \n",
    "                      max_bin= 469)"
   ]
  },
  {
   "cell_type": "code",
   "execution_count": null,
   "metadata": {
    "id": "sx0V5CAd5rFy"
   },
   "outputs": [],
   "source": [
    "lgbm_5.fit(x_train_em, y_train)\n",
    "lgb_pred = lgbm_5.predict_proba(x_test_em)\n",
    "log_score_test = log_loss(y_test, lgb_pred)\n",
    "lgb_pred = lgbm_5.predict_proba(x_train_em)\n",
    "log_score_train = log_loss(y_train, lgb_pred)"
   ]
  }
 ],
 "metadata": {
  "colab": {
   "collapsed_sections": [],
   "name": "feature selection_wrapper_피처명 추가.ipynb",
   "provenance": []
  },
  "hide_input": false,
  "kernelspec": {
   "display_name": "Python 3",
   "language": "python",
   "name": "python3"
  },
  "language_info": {
   "codemirror_mode": {
    "name": "ipython",
    "version": 3
   },
   "file_extension": ".py",
   "mimetype": "text/x-python",
   "name": "python",
   "nbconvert_exporter": "python",
   "pygments_lexer": "ipython3",
   "version": "3.7.6"
  }
 },
 "nbformat": 4,
 "nbformat_minor": 1
}
